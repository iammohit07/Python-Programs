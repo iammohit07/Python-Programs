{
 "cells": [
  {
   "cell_type": "markdown",
   "metadata": {},
   "source": [
    "Q 2 Write a python program for the following"
   ]
  },
  {
   "cell_type": "markdown",
   "metadata": {},
   "source": [
    "1.Write a function Shift (Arr, n) in Python ,which accepts a list\n",
    "Arr of numbers and n is a numeric value by which all elements of\n",
    "the list are shifted to left .\n",
    "For example Arr = [10,20,30,40,12,11], n=2\n",
    "Output Arr =[30,40,12,11,10,20]"
   ]
  },
  {
   "cell_type": "code",
   "execution_count": 1,
   "metadata": {},
   "outputs": [],
   "source": [
    "def Shift(arr,n):\n",
    "    print(\"Array after shifting : \")\n",
    "    print(arr[n:]+arr[:n])"
   ]
  },
  {
   "cell_type": "code",
   "execution_count": 2,
   "metadata": {},
   "outputs": [
    {
     "name": "stdout",
     "output_type": "stream",
     "text": [
      "NAME     - MOHIT JANGID\n",
      "ROLL NO. - 18EJICS092\n",
      "Enter array with spaces: 10 20 30 40 50 60 70 80\n",
      "Enter numeric value to shift : 3\n",
      "Array after shifting : \n",
      "[40, 50, 60, 70, 80, 10, 20, 30]\n"
     ]
    }
   ],
   "source": [
    "print(\"NAME     - MOHIT JANGID\")\n",
    "print(\"ROLL NO. - 18EJICS092\")\n",
    "raw_arr=input(\"Enter array with spaces: \")\n",
    "n=int(input(\"Enter numeric value to shift : \"))\n",
    "arr=list(map(int,raw_arr.split(\" \")))\n",
    "Shift(arr,n)"
   ]
  },
  {
   "cell_type": "markdown",
   "metadata": {},
   "source": [
    "2.Write a program in python to input any customer name and\n",
    "display customer phone number if the customer name is exist in\n",
    "the list"
   ]
  },
  {
   "cell_type": "code",
   "execution_count": 5,
   "metadata": {},
   "outputs": [
    {
     "name": "stdout",
     "output_type": "stream",
     "text": [
      "NAME     - MOHIT JANGID\n",
      "ROLL NO. - 18EJICS092\n",
      "Enter number of data to search:2\n",
      "Enter Name Mohit\n",
      "Contact number of required customer is :  9637383831\n",
      "Enter Name RAM\n",
      "Contact does not exist \n"
     ]
    }
   ],
   "source": [
    "print(\"NAME     - MOHIT JANGID\")\n",
    "print(\"ROLL NO. - 18EJICS092\")\n",
    "Customer={\"Mohit\":9637383831,\"Naruto\":9637383856,\"Hinata\":9637383838,'Jiraiya':9637383839 }\n",
    "n=int(input(\"Enter number of data to search:\"))\n",
    "for i in range(n):\n",
    "    name=input(\"Enter Name \")\n",
    "    if(name in Customer):\n",
    "        print(\"Contact number of required customer is : \", Customer[name])\n",
    "    else:\n",
    "        print(\"Contact does not exist \")"
   ]
  },
  {
   "cell_type": "markdown",
   "metadata": {},
   "source": [
    "3.Write a python program in which we take last two digit of your\n",
    "roll number , \n",
    "\n",
    "\n",
    "if n is even divide it by 2 to get n/2.If n is odd\n",
    ",multiply it by 3 and add 1 to obtain 3n +1. Generate a series for\n",
    "\n",
    "\n",
    "even number n/2,n/4,…..1\n",
    "Generate a series for odd number 3n+1, 3n+3…..3n+9"
   ]
  },
  {
   "cell_type": "code",
   "execution_count": null,
   "metadata": {},
   "outputs": [],
   "source": [
    "#roll no is =18EJICS092 so n = 92"
   ]
  },
  {
   "cell_type": "code",
   "execution_count": 23,
   "metadata": {},
   "outputs": [
    {
     "name": "stdout",
     "output_type": "stream",
     "text": [
      "NAME     - MOHIT JANGID\n",
      "ROLL NO. - 18EJICS092\n",
      "N is :  92\n",
      "EVEN SERIES\n",
      "46\n",
      "23\n",
      "11\n",
      "5\n",
      "2\n",
      "1\n"
     ]
    }
   ],
   "source": [
    "print(\"NAME     - MOHIT JANGID\")\n",
    "print(\"ROLL NO. - 18EJICS092\")\n",
    "n=92\n",
    "print(\"N is : \",n)\n",
    "even_n=n\n",
    "if(n%2==0):\n",
    "    n=n/2\n",
    "    print(\"EVEN SERIES\")\n",
    "    while(even_n>=1):\n",
    "        if(even_n==1.0):\n",
    "            break\n",
    "        else:\n",
    "            print(even_n//2)\n",
    "            even_n=even_n//2\n",
    "else:\n",
    "    n=(3*n)+1\n",
    "    print(\"ODD SERIES\")\n",
    "    count=1\n",
    "    stop=(3*n)+9\n",
    "    print(stop)\n",
    "    while(n<=stop):\n",
    "        print((3*n)+count)\n",
    "        n=(3*n)+count\n",
    "        count=count+2\n"
   ]
  },
  {
   "cell_type": "code",
   "execution_count": null,
   "metadata": {},
   "outputs": [],
   "source": []
  },
  {
   "cell_type": "code",
   "execution_count": 16,
   "metadata": {},
   "outputs": [
    {
     "name": "stdout",
     "output_type": "stream",
     "text": [
      "Ques 1\n",
      "NAME     - MOHIT JANGID\n",
      "ROLL NO. - 18EJICS092\n",
      "Enter Hours : 12\n",
      "Enter Minutes : 11\n",
      "Enter Seconds : 10\n",
      "Time is\n",
      "12 : 11 : 10\n"
     ]
    }
   ],
   "source": [
    "print(\"Ques 1\")\n",
    "print(\"NAME     - MOHIT JANGID\")\n",
    "print(\"ROLL NO. - 18EJICS092\")\n",
    "class Time:\n",
    "    pass\n",
    "hours = int(input(\"Enter Hours : \"))\n",
    "minutes = int(input(\"Enter Minutes : \"))\n",
    "seconds = int(input(\"Enter Seconds : \"))\n",
    "\n",
    "time = Time()\n",
    "time.hours = hours\n",
    "time.minutes = minutes\n",
    "time.seconds = seconds\n",
    "\n",
    "\n",
    "def print_time(t1):\n",
    "    print(\"Time is\")\n",
    "    print(t1.hours,\":\",t1.minutes,\":\",t1.seconds)\n",
    "\n",
    "print_time(time)"
   ]
  },
  {
   "cell_type": "code",
   "execution_count": 21,
   "metadata": {},
   "outputs": [
    {
     "name": "stdout",
     "output_type": "stream",
     "text": [
      "Ques 13\n",
      "NAME     - MOHIT JANGID\n",
      "ROLL NO. - 18EJICS092\n",
      "Enter your First Name : Mohit\n",
      "Enter your Last Name : Jangid\n",
      "Jangid Mohit\n",
      "DOB : \n",
      "Enter the year : 2000\n",
      "Enter the month : 09\n",
      "Enter the day : 25\n",
      "The required age is days is :  7603\n"
     ]
    }
   ],
   "source": [
    "import datetime\n",
    "from datetime import date\n",
    "todays_date = date.today()\n",
    "print(\"Ques 13\")\n",
    "print(\"NAME     - MOHIT JANGID\")\n",
    "print(\"ROLL NO. - 18EJICS092\")\n",
    "First_Name = str(input(\"Enter your First Name : \"))\n",
    "Last_Name = str(input(\"Enter your Last Name : \"))\n",
    "temp1 = First_Name\n",
    "temp2 = Last_Name\n",
    "First_Name = First_Name.replace(First_Name,temp2)\n",
    "Last_Name = Last_Name.replace(Last_Name,temp1)\n",
    "print(First_Name,Last_Name)\n",
    "print(\"DOB : \")\n",
    "year = int(input(\"Enter the year : \"))\n",
    "month = int(input(\"Enter the month : \"))\n",
    "day = int(input(\"Enter the day : \"))\n",
    "birth_date = datetime.date(year, month, day)\n",
    "end_date = datetime.date(todays_date.year, todays_date.month, todays_date.day)\n",
    "time_difference = end_date - birth_date\n",
    "age = time_difference.days\n",
    "print(\"The required age is days is : \", age)"
   ]
  },
  {
   "cell_type": "code",
   "execution_count": null,
   "metadata": {},
   "outputs": [],
   "source": []
  },
  {
   "cell_type": "code",
   "execution_count": null,
   "metadata": {},
   "outputs": [],
   "source": []
  }
 ],
 "metadata": {
  "kernelspec": {
   "display_name": "Python 3",
   "language": "python",
   "name": "python3"
  },
  "language_info": {
   "codemirror_mode": {
    "name": "ipython",
    "version": 3
   },
   "file_extension": ".py",
   "mimetype": "text/x-python",
   "name": "python",
   "nbconvert_exporter": "python",
   "pygments_lexer": "ipython3",
   "version": "3.8.5"
  }
 },
 "nbformat": 4,
 "nbformat_minor": 2
}
