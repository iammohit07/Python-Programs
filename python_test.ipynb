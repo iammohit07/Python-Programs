{
 "cells": [
  {
   "cell_type": "markdown",
   "metadata": {},
   "source": [
    "QUESTION 1\n"
   ]
  },
  {
   "cell_type": "code",
   "execution_count": 1,
   "metadata": {},
   "outputs": [
    {
     "name": "stdout",
     "output_type": "stream",
     "text": [
      "NAME : MOHIT JANGID\n",
      "ROLL NO : 18EJICS092\n",
      "SECTION : B\n"
     ]
    }
   ],
   "source": [
    "print(\"NAME : MOHIT JANGID\")\n",
    "print(\"ROLL NO : 18EJICS092\")\n",
    "print(\"SECTION : B\")"
   ]
  },
  {
   "cell_type": "code",
   "execution_count": null,
   "metadata": {},
   "outputs": [],
   "source": [
    "def get_percentage(s):\n",
    "    per=(s)/1000\n",
    "    per=per*100\n",
    "    return(per)\n",
    "\n",
    "\n",
    "def out(per,name,s):\n",
    "    print(\"TOTAL MARKS = 1000\")\n",
    "    print(\"NAME \"+ name)\n",
    "    print(\"TOTAL OBTAINED MARKS  = \"+str(s))\n",
    "    print(\"PERCENTAGE  = \"+str( per)+\"%\")\n",
    "    if(per>75.0):\n",
    "        print(\"IMPRESSIVE\")\n",
    "    elif(per<75.0 and per>50.0):\n",
    "        print(\"KEEP TRYING\")\n",
    "    else:\n",
    "        print(\"FAIL\")\n"
   ]
  },
  {
   "cell_type": "code",
   "execution_count": null,
   "metadata": {},
   "outputs": [
    {
     "name": "stdout",
     "output_type": "stream",
     "text": [
      "NAME : MOHIT JANGID\n",
      "ROLL NO : 18EJICS092\n",
      "SECTION : B\n",
      "ENTER NUMBER OF STUDENTS 2\n",
      "ENTER NAME MOHIT JANGID\n",
      "ENTER MARKS FOR MID TERM 1 245\n",
      "ENTER MARKS FOR MID TERM 2 247\n",
      "ENTER MARKS FOR SPORTS ACTIVITY 185\n",
      "ENTER MARKS FOR EXTRA ACTIVITY 1 95\n",
      "ENTER MARKS FOR EXTRA ACTIVITY 2 85\n",
      "ENTER MARKS FOR EXTRA ACTIVITY 3 90\n",
      "TOTAL MARKS = 1000\n",
      "NAME MOHIT JANGID\n",
      "TOTAL OBTAINED MARKS  = 947\n",
      "PERCENTAGE  = 94.69999999999999%\n",
      "IMPRESSIVE\n"
     ]
    }
   ],
   "source": [
    "print(\"NAME : MOHIT JANGID\")\n",
    "print(\"ROLL NO : 18EJICS092\")\n",
    "print(\"SECTION : B\")\n",
    "\n",
    "n=int(input(\"ENTER NUMBER OF STUDENTS \"))\n",
    "for i in range(0,n):\n",
    "    name=input(\"ENTER NAME \")\n",
    "    mid_1=int(input(\"ENTER MARKS FOR MID TERM 1 \"))\n",
    "    mid_2=int(input(\"ENTER MARKS FOR MID TERM 2 \"))\n",
    "    sport=int(input(\"ENTER MARKS FOR SPORTS ACTIVITY \"))\n",
    "    extra_1=int(input(\"ENTER MARKS FOR EXTRA ACTIVITY 1 \"))\n",
    "    extra_2=int(input(\"ENTER MARKS FOR EXTRA ACTIVITY 2 \"))\n",
    "    extra_3=int(input(\"ENTER MARKS FOR EXTRA ACTIVITY 3 \"))\n",
    "    s=mid_1+mid_2+sport+extra_1+extra_2+extra_3\n",
    "    mid_total=mid_1+mid_2\n",
    "    extras=extra_1+extra_2+extra_3\n",
    "    pert=get_percentage(s)\n",
    "    out(pert,name,s)\n",
    "    \n"
   ]
  },
  {
   "cell_type": "markdown",
   "metadata": {},
   "source": [
    "gcd(QUESTION 2)"
   ]
  },
  {
   "cell_type": "code",
   "execution_count": null,
   "metadata": {},
   "outputs": [],
   "source": [
    "def gcd(m,n):\n",
    "    if(m==n):\n",
    "        return(m)\n",
    "    else:\n",
    "        if(n>m):\n",
    "            x=n-m\n",
    "        else:\n",
    "            x=m-n\n",
    "        y=min(n,m)\n",
    "        #print(y)\n",
    "        return(gcd(x,y))"
   ]
  },
  {
   "cell_type": "code",
   "execution_count": 6,
   "metadata": {},
   "outputs": [
    {
     "name": "stdout",
     "output_type": "stream",
     "text": [
      "NAME : NISHA SHARMA\n",
      "ROLL NO : 18EJICS105\n",
      "SECTION : B\n",
      "- - - - -- - - - - -- - - -- - - -- - -- - -- -- -- - - - -- \n",
      "ENTER FIRST NUMBER : 48\n",
      "ENTER SECOND NUMBER : 60\n",
      "GCD OF NUMBER 48 AND 60 IS :12\n"
     ]
    }
   ],
   "source": [
    "print(\"NAME : NISHA SHARMA\")\n",
    "print(\"ROLL NO : 18EJICS105\")\n",
    "print(\"SECTION : B\")\n",
    "\n",
    "print(\"- - - - -- - - - - -- - - -- - - -- - -- - -- -- -- - - - -- \")\n",
    "\n",
    "m=int(input(\"ENTER FIRST NUMBER : \"))\n",
    "n=int(input(\"ENTER SECOND NUMBER : \"))\n",
    "g=gcd(m,n)\n",
    "print(\"GCD OF NUMBER \"+str(m)+\" AND \"+str(n)+\" IS :\"+str(g))"
   ]
  },
  {
   "cell_type": "code",
   "execution_count": null,
   "metadata": {},
   "outputs": [],
   "source": []
  },
  {
   "cell_type": "markdown",
   "metadata": {},
   "source": [
    "QUESTION 13- WEATHER"
   ]
  },
  {
   "cell_type": "code",
   "execution_count": 8,
   "metadata": {},
   "outputs": [
    {
     "name": "stdout",
     "output_type": "stream",
     "text": [
      "NAME : NISHA SHARMA\n",
      "ROLL NO : 18EJICS105\n",
      "SECTION : B\n",
      "- - - - -- - - - - -- - - -- - - -- - -- - -- -- -- - - - -- \n",
      "Enter temp for Mon23\n",
      "Enter temp for Tue34\n",
      "Enter temp for Wed21\n",
      "Enter temp for Thu33\n",
      "Enter temp for Fri25\n",
      "Enter temp for Sat32\n",
      "Enter temp for Sun21\n",
      "Daily Temps:\n",
      " Monday: 23 Tuesday: 34 Wednesday: 21 Thursday: 33 Friday: 25 Saturday: 32 Sunday: 21\n",
      "189\n",
      "Average Temp for the week: 27.0\n"
     ]
    }
   ],
   "source": [
    "print(\"NAME : NISHA SHARMA\")\n",
    "print(\"ROLL NO : 18EJICS105\")\n",
    "print(\"SECTION : B\")\n",
    "\n",
    "print(\"- - - - -- - - - - -- - - -- - - -- - -- - -- -- -- - - - -- \")\n",
    "week_days = [\"Mon\", \"Tue\", \"Wed\", \"Thu\", \"Fri\", \"Sat\", \"Sun\"]\n",
    "\n",
    "# get user input for each day and convert to ints\n",
    "temps  = map(int,[input(\"Enter temp for {}\".format(week_days[i])) for i in range(7)])\n",
    "# make dict with days as keys and temps as values\n",
    "zipped = dict(zip(week_days,temps))\n",
    "\n",
    "print(\"Daily Temps:\")\n",
    "print(\" Monday: {Mon} Tuesday: {Tue} Wednesday: {Wed} Thursday: {Thu} Friday: {Fri} Saturday: {Sat} Sunday: {Sun}\".format(**zipped))\n",
    "values = zipped. values()\n",
    "total=sum(values)\n",
    "print(total)\n",
    "avg=total/7\n",
    "\n",
    "print(\"Average Temp for the week:\",avg)"
   ]
  },
  {
   "cell_type": "code",
   "execution_count": null,
   "metadata": {},
   "outputs": [],
   "source": []
  },
  {
   "cell_type": "code",
   "execution_count": null,
   "metadata": {},
   "outputs": [],
   "source": []
  },
  {
   "cell_type": "markdown",
   "metadata": {},
   "source": [
    "QUESTION 14- PATTERN"
   ]
  },
  {
   "cell_type": "code",
   "execution_count": 9,
   "metadata": {},
   "outputs": [],
   "source": [
    "\n",
    "def pattern(s):\n",
    "    n=0\n",
    "     \n",
    "    # outer loop to handle number of rows\n",
    "    # n in this case\n",
    "    for i in range(0, len(s)):\n",
    "     \n",
    "        # inner loop to handle number of columns\n",
    "        # values changing acc. to outer loop\n",
    "        for j in range(n, i+1):\n",
    "            n=n+1\n",
    "            print(s[:i+1] ,end=\"\")\n",
    "      \n",
    "        # ending line after each row\n",
    "        print(\"\\r\")\n",
    " \n"
   ]
  },
  {
   "cell_type": "code",
   "execution_count": 10,
   "metadata": {},
   "outputs": [],
   "source": [
    "def pattern2(s):\n",
    "    n=0\n",
    "     \n",
    "    # number of spaces\n",
    "    k = 2*len(s) - 2\n",
    " \n",
    "    # outer loop to handle number of rows\n",
    "    for i in range(0, len(s)+1):\n",
    "     \n",
    "        # inner loop to handle number spaces\n",
    "        # values changing acc. to requirement\n",
    "        for j in range(0, k):\n",
    "            print(end=\" \")\n",
    "     \n",
    "        # decrementing k after each loop\n",
    "        k = k - 1\n",
    "     \n",
    "        # inner loop to handle number of columns\n",
    "        # values changing acc. to outer loop\n",
    "        for j in range(n, i+1):\n",
    "            n=n+1\n",
    "         \n",
    "            # printing stars\n",
    "            print(s[:i], end=\"\")\n",
    "     \n",
    "        # ending line after each row\n",
    "        print(\"\\r\")\n",
    " \n"
   ]
  },
  {
   "cell_type": "code",
   "execution_count": 11,
   "metadata": {},
   "outputs": [
    {
     "name": "stdout",
     "output_type": "stream",
     "text": [
      "NAME : NISHA SHARMA\n",
      "ROLL NO : 18EJICS105\n",
      "SECTION : B\n",
      "- - - - -- - - - - -- - - -- - - -- - -- - -- -- -- - - - -- \n",
      "1\r\n",
      "18\r\n",
      "18E\r\n",
      "18EI\r\n",
      "18EIC\r\n",
      "18EICS\r\n",
      "18EICS1\r\n",
      "18EICS10\r\n",
      "18EICS105\r\n",
      "                \r\n",
      "               1\r\n",
      "              18\r\n",
      "             18E\r\n",
      "            18EI\r\n",
      "           18EIC\r\n",
      "          18EICS\r\n",
      "         18EICS1\r\n",
      "        18EICS10\r\n",
      "       18EICS105\r\n"
     ]
    }
   ],
   "source": [
    "\n",
    "print(\"NAME : NISHA SHARMA\")\n",
    "print(\"ROLL NO : 18EJICS105\")\n",
    "print(\"SECTION : B\")\n",
    "\n",
    "print(\"- - - - -- - - - - -- - - -- - - -- - -- - -- -- -- - - - -- \")\n",
    "s='18EICS105'\n",
    "pattern(s)\n",
    "pattern2(s)"
   ]
  },
  {
   "cell_type": "code",
   "execution_count": null,
   "metadata": {},
   "outputs": [],
   "source": []
  }
 ],
 "metadata": {
  "kernelspec": {
   "display_name": "Python 3",
   "language": "python",
   "name": "python3"
  },
  "language_info": {
   "codemirror_mode": {
    "name": "ipython",
    "version": 3
   },
   "file_extension": ".py",
   "mimetype": "text/x-python",
   "name": "python",
   "nbconvert_exporter": "python",
   "pygments_lexer": "ipython3",
   "version": "3.8.5"
  }
 },
 "nbformat": 4,
 "nbformat_minor": 2
}
