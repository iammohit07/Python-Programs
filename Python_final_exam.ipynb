{
 "cells": [
  {
   "cell_type": "markdown",
   "metadata": {},
   "source": [
    "Q 2 Write a python program for the following"
   ]
  },
  {
   "cell_type": "markdown",
   "metadata": {},
   "source": [
    "1.Write a function Shift (Arr, n) in Python ,which accepts a list\n",
    "Arr of numbers and n is a numeric value by which all elements of\n",
    "the list are shifted to left .\n",
    "For example Arr = [10,20,30,40,12,11], n=2\n",
    "Output Arr =[30,40,12,11,10,20]"
   ]
  },
  {
   "cell_type": "code",
   "execution_count": 4,
   "metadata": {},
   "outputs": [],
   "source": [
    "def Shift(Arr,n):\n",
    "    print(\"Array after shift\")\n",
    "    print(Arr[n:]+Arr[:n])"
   ]
  },
  {
   "cell_type": "code",
   "execution_count": 3,
   "metadata": {},
   "outputs": [
    {
     "name": "stdout",
     "output_type": "stream",
     "text": [
      "Enter array with spaces: 10 20 30 40 12 11\n",
      "Enter numeric value for shift :2\n",
      "Array after shift\n",
      "[30, 40, 12, 11, 10, 20]\n"
     ]
    }
   ],
   "source": [
    "raw_arr=input(\"Enter array with spaces: \")\n",
    "n=int(input(\"Enter numeric value for shift :\"))\n",
    "Arr=list(map(int,raw_arr.split(\" \")))\n",
    "Shift(Arr,n)"
   ]
  },
  {
   "cell_type": "markdown",
   "metadata": {},
   "source": [
    "2.Write a program in python to input any customer name and\n",
    "display customer phone number if the customer name is exist in\n",
    "the list"
   ]
  },
  {
   "cell_type": "code",
   "execution_count": 18,
   "metadata": {},
   "outputs": [
    {
     "name": "stdout",
     "output_type": "stream",
     "text": [
      "Enter number of data to search:3\n",
      "Enter Name Naitik\n",
      "Name not found in list ,would you like to add\n",
      "y\n",
      "Enter Number of user244566671956\n",
      "Entery Sucessful\n",
      "-----------------------------------------------------------------------------------------------------------\n",
      "Enter Name Naitik\n",
      "Contact number of customer is 244566671956\n",
      "-------------------------------------------------------------------------------------------------------------\n",
      "Enter Name nisha\n",
      "Contact number of customer is 7728055201\n",
      "-------------------------------------------------------------------------------------------------------------\n"
     ]
    }
   ],
   "source": [
    "Customer={\"nisha\":7728055201,\"roham\":9588280529,\"mohit\":9582260527,'priyanshu':808446210}\n",
    "n=int(input(\"Enter number of data to search:\"))\n",
    "for i in range(n):\n",
    "    name=input(\"Enter Name \")\n",
    "    if(name in Customer):\n",
    "        print(\"Contact number of customer is\", Customer[name])\n",
    "        print(\"-------------------------------------------------------------------------------------------------------------\")\n",
    "    else:\n",
    "        print(\"Name not found in list ,would you like to add\")\n",
    "        op=input()\n",
    "        if(op=='Y'or op==\"y\"):\n",
    "            num=int(input(\"Enter Number of user\"))\n",
    "            Customer[name]=num\n",
    "            print(\"Entery Sucessful\")\n",
    "            print(\"-----------------------------------------------------------------------------------------------------------\")\n",
    "        else:\n",
    "            print('Thank you')"
   ]
  },
  {
   "cell_type": "markdown",
   "metadata": {},
   "source": [
    "3.Write a python program in which we take last two digit of your\n",
    "roll number , \n",
    "\n",
    "\n",
    "if n is even divide it by 2 to get n/2.If n is odd\n",
    ",multiply it by 3 and add 1 to obtain 3n +1. Generate a series for\n",
    "\n",
    "\n",
    "even number n/2,n/4,…..1\n",
    "Generate a series for odd number 3n+1, 3n+3…..3n+9"
   ]
  },
  {
   "cell_type": "code",
   "execution_count": null,
   "metadata": {},
   "outputs": [],
   "source": [
    "#roll no=18EJICS105\n",
    "#n=05 \n",
    "#n=5"
   ]
  },
  {
   "cell_type": "code",
   "execution_count": 39,
   "metadata": {},
   "outputs": [
    {
     "name": "stdout",
     "output_type": "stream",
     "text": [
      "EVEN SERIES\n",
      "1.5\n",
      "0.75\n",
      "ODD SERIES\n",
      "459\n",
      "451\n",
      "1356\n"
     ]
    }
   ],
   "source": [
    "n=6\n",
    "if(n%2==0):\n",
    "    n=n/2\n",
    "else:\n",
    "    n2=(3*n)+1\n",
    "    #print(n)\n",
    "print(\"EVEN SERIES\")\n",
    "while(n>=1):\n",
    "    if(n==1.0):\n",
    "        break\n",
    "    else:\n",
    "        print(n/2)\n",
    "        n=n/2\n",
    "print(\"ODD SERIES\")\n",
    "count=1\n",
    "stop=(3*n2)+9\n",
    "print(stop)\n",
    "while(n2<=stop):\n",
    "    print((3*n2)+count)\n",
    "    n2=(3*n2)+count\n",
    "    count=count+2"
   ]
  },
  {
   "cell_type": "code",
   "execution_count": null,
   "metadata": {},
   "outputs": [],
   "source": []
  },
  {
   "cell_type": "code",
   "execution_count": 2,
   "metadata": {},
   "outputs": [
    {
     "name": "stdout",
     "output_type": "stream",
     "text": [
      "Enter Hours : 11\n",
      "Enter Minutes : 26\n",
      "Enter Seconds : 56\n",
      "Time is\n",
      "11 : 26 : 56\n"
     ]
    }
   ],
   "source": [
    "class Time:\n",
    "    pass\n",
    "\n",
    "hours = int(input(\"Enter Hours : \"))\n",
    "minutes = int(input(\"Enter Minutes : \"))\n",
    "seconds = int(input(\"Enter Seconds : \"))\n",
    "\n",
    "time = Time()\n",
    "time.hours = hours\n",
    "time.minutes = minutes\n",
    "time.seconds = seconds\n",
    "\n",
    "\n",
    "def print_time(t1):\n",
    "    print(\"Time is\")\n",
    "    print(t1.hours,\":\",t1.minutes,\":\",t1.seconds)\n",
    "\n",
    "print_time(time)"
   ]
  },
  {
   "cell_type": "code",
   "execution_count": 37,
   "metadata": {},
   "outputs": [
    {
     "name": "stdout",
     "output_type": "stream",
     "text": [
      "Enter Hours : 9\n",
      "Enter Minutes : 53\n",
      "Enter Seconds : 57\n"
     ]
    }
   ],
   "source": [
    "dave = Time(9,53,65)"
   ]
  },
  {
   "cell_type": "code",
   "execution_count": 3,
   "metadata": {},
   "outputs": [
    {
     "ename": "NameError",
     "evalue": "name 'dave' is not defined",
     "output_type": "error",
     "traceback": [
      "\u001b[1;31m---------------------------------------------------------------------------\u001b[0m",
      "\u001b[1;31mNameError\u001b[0m                                 Traceback (most recent call last)",
      "\u001b[1;32m<ipython-input-3-6ee483d44970>\u001b[0m in \u001b[0;36m<module>\u001b[1;34m\u001b[0m\n\u001b[1;32m----> 1\u001b[1;33m \u001b[0mdave\u001b[0m\u001b[1;33m.\u001b[0m\u001b[0mprint_time\u001b[0m\u001b[1;33m(\u001b[0m\u001b[1;33m)\u001b[0m\u001b[1;33m\u001b[0m\u001b[1;33m\u001b[0m\u001b[0m\n\u001b[0m",
      "\u001b[1;31mNameError\u001b[0m: name 'dave' is not defined"
     ]
    }
   ],
   "source": [
    "dave.print_time()"
   ]
  },
  {
   "cell_type": "code",
   "execution_count": 1,
   "metadata": {},
   "outputs": [
    {
     "name": "stdout",
     "output_type": "stream",
     "text": [
      "Enter the no.92\n",
      "92 46 23 70 35 106 53 160 80 40 20 10 5 16 8 4 2 1\n"
     ]
    },
    {
     "ename": "KeyboardInterrupt",
     "evalue": "Interrupted by user",
     "output_type": "error",
     "traceback": [
      "\u001b[1;31m---------------------------------------------------------------------------\u001b[0m",
      "\u001b[1;31mKeyboardInterrupt\u001b[0m                         Traceback (most recent call last)",
      "\u001b[1;32m<ipython-input-1-085b9bd2d7a0>\u001b[0m in \u001b[0;36m<module>\u001b[1;34m\u001b[0m\n\u001b[0;32m     12\u001b[0m \u001b[0mn\u001b[0m\u001b[1;33m=\u001b[0m\u001b[0mint\u001b[0m\u001b[1;33m(\u001b[0m\u001b[0minput\u001b[0m\u001b[1;33m(\u001b[0m\u001b[1;34m\"Enter the no.\"\u001b[0m\u001b[1;33m)\u001b[0m\u001b[1;33m)\u001b[0m\u001b[1;33m\u001b[0m\u001b[1;33m\u001b[0m\u001b[0m\n\u001b[0;32m     13\u001b[0m \u001b[0mprintCollatz\u001b[0m\u001b[1;33m(\u001b[0m\u001b[0mn\u001b[0m\u001b[1;33m)\u001b[0m\u001b[1;33m\u001b[0m\u001b[1;33m\u001b[0m\u001b[0m\n\u001b[1;32m---> 14\u001b[1;33m \u001b[0mm\u001b[0m\u001b[1;33m=\u001b[0m\u001b[0mint\u001b[0m\u001b[1;33m(\u001b[0m\u001b[0minput\u001b[0m\u001b[1;33m(\u001b[0m\u001b[1;34m\"Enter the another no.\"\u001b[0m\u001b[1;33m)\u001b[0m\u001b[1;33m)\u001b[0m\u001b[1;33m\u001b[0m\u001b[1;33m\u001b[0m\u001b[0m\n\u001b[0m\u001b[0;32m     15\u001b[0m \u001b[0mprintCollatz\u001b[0m\u001b[1;33m(\u001b[0m\u001b[0mm\u001b[0m\u001b[1;33m)\u001b[0m\u001b[1;33m\u001b[0m\u001b[1;33m\u001b[0m\u001b[0m\n",
      "\u001b[1;32mE:\\Anaconda 3\\lib\\site-packages\\ipykernel\\kernelbase.py\u001b[0m in \u001b[0;36mraw_input\u001b[1;34m(self, prompt)\u001b[0m\n\u001b[0;32m    858\u001b[0m                 \u001b[1;34m\"raw_input was called, but this frontend does not support input requests.\"\u001b[0m\u001b[1;33m\u001b[0m\u001b[1;33m\u001b[0m\u001b[0m\n\u001b[0;32m    859\u001b[0m             )\n\u001b[1;32m--> 860\u001b[1;33m         return self._input_request(str(prompt),\n\u001b[0m\u001b[0;32m    861\u001b[0m             \u001b[0mself\u001b[0m\u001b[1;33m.\u001b[0m\u001b[0m_parent_ident\u001b[0m\u001b[1;33m,\u001b[0m\u001b[1;33m\u001b[0m\u001b[1;33m\u001b[0m\u001b[0m\n\u001b[0;32m    862\u001b[0m             \u001b[0mself\u001b[0m\u001b[1;33m.\u001b[0m\u001b[0m_parent_header\u001b[0m\u001b[1;33m,\u001b[0m\u001b[1;33m\u001b[0m\u001b[1;33m\u001b[0m\u001b[0m\n",
      "\u001b[1;32mE:\\Anaconda 3\\lib\\site-packages\\ipykernel\\kernelbase.py\u001b[0m in \u001b[0;36m_input_request\u001b[1;34m(self, prompt, ident, parent, password)\u001b[0m\n\u001b[0;32m    902\u001b[0m             \u001b[1;32mexcept\u001b[0m \u001b[0mKeyboardInterrupt\u001b[0m\u001b[1;33m:\u001b[0m\u001b[1;33m\u001b[0m\u001b[1;33m\u001b[0m\u001b[0m\n\u001b[0;32m    903\u001b[0m                 \u001b[1;31m# re-raise KeyboardInterrupt, to truncate traceback\u001b[0m\u001b[1;33m\u001b[0m\u001b[1;33m\u001b[0m\u001b[1;33m\u001b[0m\u001b[0m\n\u001b[1;32m--> 904\u001b[1;33m                 \u001b[1;32mraise\u001b[0m \u001b[0mKeyboardInterrupt\u001b[0m\u001b[1;33m(\u001b[0m\u001b[1;34m\"Interrupted by user\"\u001b[0m\u001b[1;33m)\u001b[0m \u001b[1;32mfrom\u001b[0m \u001b[1;32mNone\u001b[0m\u001b[1;33m\u001b[0m\u001b[1;33m\u001b[0m\u001b[0m\n\u001b[0m\u001b[0;32m    905\u001b[0m             \u001b[1;32mexcept\u001b[0m \u001b[0mException\u001b[0m \u001b[1;32mas\u001b[0m \u001b[0me\u001b[0m\u001b[1;33m:\u001b[0m\u001b[1;33m\u001b[0m\u001b[1;33m\u001b[0m\u001b[0m\n\u001b[0;32m    906\u001b[0m                 \u001b[0mself\u001b[0m\u001b[1;33m.\u001b[0m\u001b[0mlog\u001b[0m\u001b[1;33m.\u001b[0m\u001b[0mwarning\u001b[0m\u001b[1;33m(\u001b[0m\u001b[1;34m\"Invalid Message:\"\u001b[0m\u001b[1;33m,\u001b[0m \u001b[0mexc_info\u001b[0m\u001b[1;33m=\u001b[0m\u001b[1;32mTrue\u001b[0m\u001b[1;33m)\u001b[0m\u001b[1;33m\u001b[0m\u001b[1;33m\u001b[0m\u001b[0m\n",
      "\u001b[1;31mKeyboardInterrupt\u001b[0m: Interrupted by user"
     ]
    }
   ],
   "source": [
    "def printCollatz(n):\n",
    "\n",
    "    while n != 1:\n",
    "        print(n, end=' ')\n",
    "        if n & 1:\n",
    "            n = 3 * n + 1\n",
    "        else:\n",
    "            n = n // 2\n",
    "    print(n)\n",
    "\n",
    "\n",
    "n=int(input(\"Enter the no.\"))\n",
    "printCollatz(n)\n",
    "m=int(input(\"Enter the another no.\"))\n",
    "printCollatz(m)\n"
   ]
  },
  {
   "cell_type": "code",
   "execution_count": null,
   "metadata": {},
   "outputs": [],
   "source": []
  }
 ],
 "metadata": {
  "kernelspec": {
   "display_name": "Python 3",
   "language": "python",
   "name": "python3"
  },
  "language_info": {
   "codemirror_mode": {
    "name": "ipython",
    "version": 3
   },
   "file_extension": ".py",
   "mimetype": "text/x-python",
   "name": "python",
   "nbconvert_exporter": "python",
   "pygments_lexer": "ipython3",
   "version": "3.8.5"
  }
 },
 "nbformat": 4,
 "nbformat_minor": 2
}
